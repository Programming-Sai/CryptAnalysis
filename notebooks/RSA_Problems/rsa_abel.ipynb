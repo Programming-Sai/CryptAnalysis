{
  "cells": [
    {
      "cell_type": "code",
      "execution_count": 1,
      "metadata": {},
      "outputs": [],
      "source": [
        "# Getting Scripts\n",
        "import sys\n",
        "import os\n",
        "import pandas as pd\n",
        "import matplotlib.pyplot as plt\n",
        "sys.path.append(os.path.abspath(os.path.join('..', '..', 'scripts')))\n"
      ]
    },
    {
      "cell_type": "markdown",
      "metadata": {
        "id": "andC0tV-8IH0"
      },
      "source": [
        "## RSA Brute Force Timing Experiment\n",
        "\n",
        "In this notebook, we explore the complexity of the RSA algorithm by attempting to compute the private key $ d $ (where $ d $ is the modular inverse of $ e $ modulo $ \\phi(n) $) via brute force.\n",
        "\n",
        "In the RSA algorithm, the public key consists of the values $ \\{ e, n \\} $, where $ n = p \\times q $, and $ p $ and $ q $ are prime numbers. The private key $ d $ satisfies the following equation:\n",
        "\n",
        "$$\n",
        "d \\times e \\equiv 1 \\pmod{\\phi(n)}\n",
        "$$\n",
        "\n",
        "Where:\n",
        "\n",
        "- $ p $ and $ q $ are prime numbers\n",
        "- $ e $ is the public exponent, typically chosen such that it is coprime with $ \\phi(n) $, where $ \\phi(n) = (p-1) \\times (q-1) $\n",
        "- $ n = p \\times q $ is the modulus used in both the public and private keys\n",
        "- $ \\phi(n) $ is Euler's totient function of $ n $, which is used to calculate the modular inverse\n",
        "- $ d $ is the private key, and our goal is to compute it\n",
        "\n",
        "For this experiment, we will:\n",
        "\n",
        "- **Start with small primes**: For example, $ p = 43 $, $ q = 59 $, and $ e = 13 $, and compute $ d $ via brute force.\n",
        "- **Scale up** to test the algorithm with:\n",
        "  - Two four-digit primes\n",
        "  - Two six-digit primes\n",
        "  - Two eight-digit primes\n",
        "  - Two ten-digit primes\n",
        "\n",
        "As the prime numbers increase in size, the brute force method becomes exceedingly slow. To handle this, we will measure the speed of our iteration loop for a fixed number of iterations, and then extrapolate the total time required to find $ d $.\n",
        "\n",
        "By the end of this experiment, we aim to understand the relationship between the size of the primes and the time it takes to compute $ d $ using brute force."
      ]
    },
    {
      "cell_type": "code",
      "execution_count": 2,
      "metadata": {
        "id": "oTQt7iTM8IH2"
      },
      "outputs": [],
      "source": [
        "\n",
        "import time\n",
        "import math\n",
        "import matplotlib.pyplot as plt\n"
      ]
    },
    {
      "cell_type": "markdown",
      "metadata": {
        "id": "c34glJr_8IH3"
      },
      "source": [
        "## Helper Functions\n",
        "\n",
        "We start by importing helper functions: a simple primality test, the greatest common divisor,\n",
        "the Extended Euclidean Algorithm (to quickly compute the modular inverse), and a brute-force method\n",
        "(or its time extrapolation) for finding \\( d \\).\n"
      ]
    },
    {
      "cell_type": "code",
      "execution_count": 3,
      "metadata": {
        "id": "YPKPzDS48IH4"
      },
      "outputs": [],
      "source": [
        "from utils import modinv, run_rsa_decryption_and_save_results, generate_prime"
      ]
    },
    {
      "cell_type": "markdown",
      "metadata": {
        "id": "UM50GLlN8IH5"
      },
      "source": [
        "## Brute-Force Search for d\n",
        "\n",
        "This function tries to find $ d $ by checking every candidate $ k $ (starting from 1) until\n",
        "it finds one such that:\n",
        "\n",
        "$$\n",
        "k \\times e \\mod \\phi = 1.\n",
        "$$\n",
        "\n",
        "For small $ d $, we run the loop and measure the actual time. For large $ d $, we measure\n",
        "the speed of our loop (iterations per second) using a fixed number of iterations and then\n",
        "estimate the total time.\n",
        "\n"
      ]
    },
    {
      "cell_type": "code",
      "execution_count": 4,
      "metadata": {
        "id": "dFvPNsq28IH5"
      },
      "outputs": [],
      "source": [
        "\n",
        "\n",
        "def brute_force_d(p, q, e):\n",
        "    \"\"\"\n",
        "    For given primes p and q and public exponent e,\n",
        "    compute phi, then find d (the modular inverse of e modulo phi)\n",
        "    by brute force. Always does the actual calculation and returns the result.\n",
        "    \"\"\"\n",
        "    phi = (p-1) * (q-1)\n",
        "    \n",
        "    # First, compute d quickly using modinv (for later reference)\n",
        "    d_true = modinv(e, phi)\n",
        "\n",
        "    # Perform the brute force search, regardless of d_true size\n",
        "    start = time.time()\n",
        "    candidate = 1\n",
        "    while candidate < d_true+1:\n",
        "        if (candidate * e) % phi == 1:\n",
        "            d = candidate\n",
        "            break\n",
        "        candidate += 1\n",
        "    elapsed = time.time() - start\n",
        "    return d, elapsed\n"
      ]
    },
    {
      "cell_type": "markdown",
      "metadata": {
        "id": "55XvXiwc8IH6"
      },
      "source": [
        "## Testing on the Small Example (p=43, q=59, e=13)\n",
        "\n",
        "This test should complete quickly using the brute force search method.\n",
        "\n",
        "Test parameters: p = 43, q = 59, e = 13\n",
        "\n"
      ]
    },
    {
      "cell_type": "code",
      "execution_count": 5,
      "metadata": {
        "colab": {
          "base_uri": "https://localhost:8080/"
        },
        "id": "r__W19IZ8IH6",
        "outputId": "fbd54465-3380-469c-e1fb-1d1ddbe9c35d"
      },
      "outputs": [
        {
          "name": "stdout",
          "output_type": "stream",
          "text": [
            "2-digit\n",
            "==================\n",
            "p: 97, q: 59, e: 13\n",
            "d: 1285, Execution Time: 0.000459 seconds\n",
            "\n",
            "\n"
          ]
        }
      ],
      "source": [
        "\n",
        "p_small, q_small, e_small = generate_prime(2), generate_prime(2), 13\n",
        "\n",
        "\n",
        "run_rsa_decryption_and_save_results(brute_force_d, \"2-digit\", p_small, q_small, e_small, filename = os.path.join(os.path.abspath(os.path.join(os.getcwd(), '..', '..', 'data')), 'rsa_log.csv'))"
      ]
    },
    {
      "cell_type": "markdown",
      "metadata": {
        "id": "hasCKAhD8IH7"
      },
      "source": [
        "## Experiment: Brute-Force Timing for Different Prime Sizes\n",
        "\n",
        "We use the following pairs:\n",
        "\n",
        "- **Four-digit primes:** \n",
        "- **Six-digit primes:** \n",
        "- **Eight-digit primes:** \n",
        "- **Ten-digit primes:** \n",
        "\n",
        "We use \\( e = 13 \\) (which is prime) for all cases.\n",
        "\n",
        "For each pair, we record the number of digits (using the digit length of \\( p \\)) and the time\n",
        "(or estimated time) required to find \\( d \\) by brute force.\n",
        "\n",
        "Define the prime pairs and corresponding label (digit-length)\n",
        "\n"
      ]
    },
    {
      "cell_type": "code",
      "execution_count": 6,
      "metadata": {
        "colab": {
          "base_uri": "https://localhost:8080/"
        },
        "id": "DCoYzO2P8IH7",
        "outputId": "f038c67b-f6ee-4011-d5a0-d405849a4456"
      },
      "outputs": [
        {
          "name": "stdout",
          "output_type": "stream",
          "text": [
            "Brute-force timing results (d computation):\n",
            "4-digit\n",
            "==================\n",
            "p: 8317, q: 7487, e: 13\n",
            "d: 38309893, Execution Time: 13.162231 seconds\n",
            "\n",
            "\n"
          ]
        }
      ],
      "source": [
        "\n",
        "prime_pairs = {\n",
        "    \"4-digit\": (generate_prime(4), generate_prime(4)),\n",
        "    # \"6-digit\": (generate_prime(6), generate_prime(6)),\n",
        "    # \"8-digit\": (generate_prime(8), generate_prime(8)),\n",
        "    # \"10-digit\": (generate_prime(10), generate_prime(10))\n",
        "}\n",
        "\n",
        "e_val = 13\n",
        "results = {}\n",
        "\n",
        "print(\"Brute-force timing results (d computation):\")\n",
        "for label, (p_val, q_val) in prime_pairs.items():\n",
        "    run_rsa_decryption_and_save_results(brute_force_d, label, p_val, q_val, e_val, filename = os.path.join(os.path.abspath(os.path.join(os.getcwd(), '..', '..', 'data')), 'rsa_log.csv'))\n",
        "\n"
      ]
    },
    {
      "cell_type": "markdown",
      "metadata": {
        "id": "Jovu3ZBl8IH8"
      },
      "source": [
        "## Plotting the Results\n",
        "\n",
        "We plot the measured/estimated times versus the prime size (by the number of digits).\n",
        "If the time differences are large, we use a logarithmic scale on the y-axis.\n",
        "\n",
        "Prepare data for plotting\n",
        "\n"
      ]
    },
    {
      "cell_type": "code",
      "execution_count": 7,
      "metadata": {},
      "outputs": [
        {
          "data": {
            "text/html": [
              "<div>\n",
              "<style scoped>\n",
              "    .dataframe tbody tr th:only-of-type {\n",
              "        vertical-align: middle;\n",
              "    }\n",
              "\n",
              "    .dataframe tbody tr th {\n",
              "        vertical-align: top;\n",
              "    }\n",
              "\n",
              "    .dataframe thead th {\n",
              "        text-align: right;\n",
              "    }\n",
              "</style>\n",
              "<table border=\"1\" class=\"dataframe\">\n",
              "  <thead>\n",
              "    <tr style=\"text-align: right;\">\n",
              "      <th></th>\n",
              "      <th>No of Digits</th>\n",
              "      <th>p</th>\n",
              "      <th>q</th>\n",
              "      <th>e</th>\n",
              "      <th>d</th>\n",
              "      <th>Execution Time (seconds)</th>\n",
              "      <th>Digits</th>\n",
              "    </tr>\n",
              "  </thead>\n",
              "  <tbody>\n",
              "    <tr>\n",
              "      <th>0</th>\n",
              "      <td>2-digit</td>\n",
              "      <td>97</td>\n",
              "      <td>59</td>\n",
              "      <td>13</td>\n",
              "      <td>1285</td>\n",
              "      <td>0.000459</td>\n",
              "      <td>2</td>\n",
              "    </tr>\n",
              "    <tr>\n",
              "      <th>1</th>\n",
              "      <td>4-digit</td>\n",
              "      <td>8317</td>\n",
              "      <td>7487</td>\n",
              "      <td>13</td>\n",
              "      <td>38309893</td>\n",
              "      <td>13.162231</td>\n",
              "      <td>4</td>\n",
              "    </tr>\n",
              "  </tbody>\n",
              "</table>\n",
              "</div>"
            ],
            "text/plain": [
              "  No of Digits     p     q   e         d  Execution Time (seconds)  Digits\n",
              "0      2-digit    97    59  13      1285                  0.000459       2\n",
              "1      4-digit  8317  7487  13  38309893                 13.162231       4"
            ]
          },
          "execution_count": 7,
          "metadata": {},
          "output_type": "execute_result"
        }
      ],
      "source": [
        "# Read the CSV file into a pandas DataFrame\n",
        "df = pd.read_csv(os.path.join(os.path.abspath(os.path.join(os.getcwd(), '..', '..', 'data')), 'rsa_log.csv'))\n",
        "\n",
        "# Convert 'No of Digits' into numerical values\n",
        "df['Digits'] = df['No of Digits'].map({\n",
        "    '2-digit': 2,\n",
        "    '4-digit': 4,\n",
        "    '6-digit': 6,\n",
        "    '8-digit': 8,\n",
        "    '10-digit': 10\n",
        "})\n",
        "\n",
        "df\n"
      ]
    },
    {
      "cell_type": "code",
      "execution_count": 8,
      "metadata": {
        "colab": {
          "base_uri": "https://localhost:8080/",
          "height": 564
        },
        "id": "40j5wUB28IH8",
        "outputId": "bd1a228b-5c27-41e1-9cae-cfc3139f2896"
      },
      "outputs": [
        {
          "data": {
            "image/png": "[encoded data removed]",
            "text/plain": [
              "<Figure size 800x600 with 1 Axes>"
            ]
          },
          "metadata": {},
          "output_type": "display_data"
        }
      ],
      "source": [
        "# Plot Execution Time vs Number of Digits\n",
        "plt.figure(figsize=(8, 6))\n",
        "plt.plot(df['Digits'], df['Execution Time (seconds)'], marker='o', linestyle='-', color='b', label=\"Execution Time\")\n",
        "plt.xlabel(\"Number of Digits in Primes\")\n",
        "plt.ylabel(\"Execution Time (seconds)\")\n",
        "plt.title(\"RSA Brute-force Timing\")\n",
        "\n",
        "# Set the y-axis to log scale\n",
        "plt.yscale('log')\n",
        "\n",
        "plt.xticks(df['Digits'])\n",
        "plt.grid(True)\n",
        "plt.legend()\n",
        "\n",
        "# Show the plot\n",
        "plt.show()"
      ]
    },
    {
      "cell_type": "markdown",
      "metadata": {
        "id": "rmONBWvo8IH9"
      },
      "source": [
        "## Conclusion\n",
        "\n",
        "The experiment illustrates that even for modest increases in the prime sizes, the brute-force method\n",
        "for finding the RSA private key $ d $ becomes extremely time‐consuming. While a brute-force approach\n",
        "may work for small primes, the enormous search space for large primes (which are used in practical RSA)\n",
        "makes this approach computationally infeasible. This underscores the strength of RSA and the importance\n",
        "of efficient algorithms (such as the Extended Euclidean Algorithm) for computing modular inverses.\n"
      ]
    },
    {
      "cell_type": "markdown",
      "metadata": {},
      "source": []
    }
  ],
  "metadata": {
    "colab": {
      "provenance": []
    },
    "kernelspec": {
      "display_name": ".crypt-venv",
      "language": "python",
      "name": "python3"
    },
    "language_info": {
      "codemirror_mode": {
        "name": "ipython",
        "version": 3
      },
      "file_extension": ".py",
      "mimetype": "text/x-python",
      "name": "python",
      "nbconvert_exporter": "python",
      "pygments_lexer": "ipython3",
      "version": "3.10.10"
    }
  },
  "nbformat": 4,
  "nbformat_minor": 0
}
