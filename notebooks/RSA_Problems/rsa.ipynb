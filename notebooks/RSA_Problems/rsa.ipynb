{
  "cells": [
    {
      "cell_type": "markdown",
      "metadata": {
        "id": "andC0tV-8IH0"
      },
      "source": [
        " ## GP 6\n",
        "\n",
        " **Group Members:**  \n",
        " - Tattah Abel Mawunyo 11335775\n",
        " - Member 2: Name (Index Number)  \n",
        " - Member 3: Name (Index Number)  \n",
        " - Member 4: Name (Index Number)  \n",
        "\n",
        " ## RSA Brute Force Timing Experiment\n",
        "\n",
        " In this notebook we explore the complexity of the RSA algorithm by attempting to\n",
        " compute the private key \\( d \\) (where \\( d \\) is the modular inverse of \\( e \\) modulo \\(\\phi(n)\\)) via brute force.\n",
        "\n",
        " For a given RSA system with public key \\( \\{ e, n \\} \\) (with \\( n = p \\times q \\)),\n",
        " \\( d \\) satisfies:\n",
        "\n",
        " \\[\n",
        " d \\times e \\equiv 1 \\pmod{\\phi(n)}\n",
        " \\]\n",
        "\n",
        " We first test the case with small primes \\( p = 43, q = 59, e = 13 \\), and then evaluate\n",
        " the time taken to “find” \\( d \\) by brute force for:\n",
        "\n",
        " - Two four-digit primes\n",
        " - Two six-digit primes\n",
        " - Two eight-digit primes\n",
        " - Two ten-digit primes\n",
        "\n",
        " For large primes, the brute force method is extremely slow. Hence, we will measure the speed\n",
        " of our iteration loop for a fixed number of iterations and then extrapolate the total time\n",
        " required to reach \\( d \\)."
      ]
    },
    {
      "cell_type": "code",
      "execution_count": 1,
      "metadata": {
        "id": "oTQt7iTM8IH2"
      },
      "outputs": [],
      "source": [
        "\n",
        "import time\n",
        "import math\n",
        "import matplotlib.pyplot as plt\n"
      ]
    },
    {
      "cell_type": "markdown",
      "metadata": {
        "id": "c34glJr_8IH3"
      },
      "source": [
        "## Helper Functions\n",
        "\n",
        "We start by defining helper functions: a simple primality test, the greatest common divisor,\n",
        "the Extended Euclidean Algorithm (to quickly compute the modular inverse), and a brute-force method\n",
        "(or its time extrapolation) for finding \\( d \\).\n"
      ]
    },
    {
      "cell_type": "code",
      "execution_count": 3,
      "metadata": {
        "id": "YPKPzDS48IH4"
      },
      "outputs": [],
      "source": [
        "\n",
        "def is_prime(n):\n",
        "    \"\"\"Return True if n is prime (simple trial division).\"\"\"\n",
        "    if n < 2:\n",
        "        return False\n",
        "    if n in (2,3):\n",
        "        return True\n",
        "    if n % 2 == 0:\n",
        "        return False\n",
        "    for i in range(3, int(math.sqrt(n))+1, 2):\n",
        "        if n % i == 0:\n",
        "            return False\n",
        "    return True\n",
        "\n",
        "def gcd(a, b):\n",
        "    \"\"\"Compute the greatest common divisor using Euclid's algorithm.\"\"\"\n",
        "    while b:\n",
        "        a, b = b, a % b\n",
        "    return a\n",
        "\n",
        "def extended_gcd(a, b):\n",
        "    \"\"\"Return tuple (g, x, y) such that ax + by = g = gcd(a, b).\"\"\"\n",
        "    if a == 0:\n",
        "        return (b, 0, 1)\n",
        "    else:\n",
        "        g, x, y = extended_gcd(b % a, a)\n",
        "        return (g, y - (b // a) * x, x)\n",
        "\n",
        "def modinv(e, phi):\n",
        "    \"\"\"Compute the modular inverse of e mod phi using the Extended Euclidean Algorithm.\"\"\"\n",
        "    g, x, _ = extended_gcd(e, phi)\n",
        "    if g != 1:\n",
        "        raise Exception('Modular inverse does not exist')\n",
        "    else:\n",
        "        return x % phi\n",
        "\n"
      ]
    },
    {
      "cell_type": "markdown",
      "metadata": {
        "id": "UM50GLlN8IH5"
      },
      "source": [
        "## Brute-Force Search for d\n",
        "\n",
        "This function tries to find \\( d \\) by checking every candidate \\( k \\) (starting from 1) until\n",
        "it finds one such that:\n",
        "\n",
        "\\[\n",
        "k \\times e \\mod \\phi = 1.\n",
        "\\]\n",
        "\n",
        "For small \\( d \\), we run the loop and measure the actual time. For large \\( d \\), we measure\n",
        "the speed of our loop (iterations per second) using a fixed number of iterations and then\n",
        "estimate the total time.\n",
        "\n"
      ]
    },
    {
      "cell_type": "code",
      "execution_count": 4,
      "metadata": {
        "id": "dFvPNsq28IH5"
      },
      "outputs": [],
      "source": [
        "\n",
        "def brute_force_d(p, q, e, max_iter_for_real=10**6):\n",
        "    \"\"\"\n",
        "    For given primes p and q and public exponent e,\n",
        "    compute phi, then find d (the modular inverse of e modulo phi)\n",
        "    by brute force. For large d (when the actual loop would be too long),\n",
        "    we extrapolate the time using a measurement of iterations per second.\n",
        "    Returns (d, time_taken, method) where method is either \"actual\" or \"extrapolated\".\n",
        "    \"\"\"\n",
        "    phi = (p-1) * (q-1)\n",
        "    # First, compute d quickly using modinv (for later reference)\n",
        "    d_true = modinv(e, phi)\n",
        "\n",
        "    # If d_true is small enough, try actual brute force search.\n",
        "    if d_true < max_iter_for_real:\n",
        "        start = time.time()\n",
        "        candidate = 1\n",
        "        while candidate < d_true+1:\n",
        "            if (candidate * e) % phi == 1:\n",
        "                d = candidate\n",
        "                break\n",
        "            candidate += 1\n",
        "        elapsed = time.time() - start\n",
        "        return d, elapsed, \"actual\"\n",
        "    else:\n",
        "        # For large d, measure iterations per second over a fixed number of iterations.\n",
        "        test_iters = 10**5  # number of iterations to measure speed\n",
        "        start = time.time()\n",
        "        dummy = 0\n",
        "        for i in range(test_iters):\n",
        "            dummy += 1  # dummy operation\n",
        "        test_time = time.time() - start\n",
        "        iter_rate = test_iters / test_time\n",
        "\n",
        "        # Extrapolate total time required to reach d_true iterations\n",
        "        estimated_time = d_true / iter_rate\n",
        "        return d_true, estimated_time, \"extrapolated\"\n"
      ]
    },
    {
      "cell_type": "markdown",
      "metadata": {
        "id": "55XvXiwc8IH6"
      },
      "source": [
        "## Testing on the Small Example (p=43, q=59, e=13)\n",
        "\n",
        "This test should complete quickly using the brute force search method.\n",
        "\n",
        "Test parameters: p = 43, q = 59, e = 13\n",
        "\n"
      ]
    },
    {
      "cell_type": "code",
      "execution_count": 6,
      "metadata": {
        "colab": {
          "base_uri": "https://localhost:8080/"
        },
        "id": "r__W19IZ8IH6",
        "outputId": "fbd54465-3380-469c-e1fb-1d1ddbe9c35d"
      },
      "outputs": [
        {
          "output_type": "stream",
          "name": "stdout",
          "text": [
            "Small example (p=43, q=59, e=13):\n",
            "  d = 937 (computed by actual method)\n",
            "  Time taken: 0.000268 seconds\n"
          ]
        }
      ],
      "source": [
        "\n",
        "p_small, q_small, e_small = 43, 59, 13\n",
        "d_found, time_taken, method = brute_force_d(p_small, q_small, e_small)\n",
        "print(f\"Small example (p={p_small}, q={q_small}, e={e_small}):\")\n",
        "print(f\"  d = {d_found} (computed by {method} method)\")\n",
        "print(f\"  Time taken: {time_taken:.6f} seconds\")\n",
        "\n"
      ]
    },
    {
      "cell_type": "markdown",
      "metadata": {
        "id": "hasCKAhD8IH7"
      },
      "source": [
        "## Experiment: Brute-Force Timing for Different Prime Sizes\n",
        "\n",
        "We use the following pairs:\n",
        "\n",
        "- **Four-digit primes:** 1009, 1013  \n",
        "- **Six-digit primes:** 100003, 100019  \n",
        "- **Eight-digit primes:** 10000019, 10000079  \n",
        "- **Ten-digit primes:** 1000000007, 1000000009  \n",
        "\n",
        "We use \\( e = 13 \\) (which is prime) for all cases.\n",
        "\n",
        "For each pair, we record the number of digits (using the digit length of \\( p \\)) and the time\n",
        "(or estimated time) required to find \\( d \\) by brute force.\n",
        "\n",
        "Define the prime pairs and corresponding label (digit-length)\n",
        "\n"
      ]
    },
    {
      "cell_type": "code",
      "execution_count": 7,
      "metadata": {
        "colab": {
          "base_uri": "https://localhost:8080/"
        },
        "id": "DCoYzO2P8IH7",
        "outputId": "f038c67b-f6ee-4011-d5a0-d405849a4456"
      },
      "outputs": [
        {
          "output_type": "stream",
          "name": "stdout",
          "text": [
            "Brute-force timing results (d computation):\n",
            "\n",
            "Testing for 4-digit primes: p = 1009, q = 1013\n",
            "  Time taken: 0.015589 seconds [actual]\n",
            "\n",
            "Testing for 6-digit primes: p = 100003, q = 100019\n",
            "  Time taken: 161.415980 seconds [extrapolated]\n",
            "\n",
            "Testing for 8-digit primes: p = 10000019, q = 10000079\n",
            "  Estimated time: 3.04e+06 seconds (~8.46e+02 hours) [extrapolated]\n",
            "\n",
            "Testing for 10-digit primes: p = 1000000007, q = 1000000009\n",
            "  Estimated time: 2.75e+10 seconds (~7.64e+06 hours) [extrapolated]\n"
          ]
        }
      ],
      "source": [
        "\n",
        "prime_pairs = {\n",
        "    \"4-digit\": (1009, 1013),\n",
        "    \"6-digit\": (100003, 100019),\n",
        "    \"8-digit\": (10000019, 10000079),\n",
        "    \"10-digit\": (1000000007, 1000000009)\n",
        "}\n",
        "\n",
        "e_val = 13\n",
        "results = {}\n",
        "\n",
        "print(\"Brute-force timing results (d computation):\")\n",
        "for label, (p_val, q_val) in prime_pairs.items():\n",
        "    print(f\"\\nTesting for {label} primes: p = {p_val}, q = {q_val}\")\n",
        "    d_val, t_val, method_used = brute_force_d(p_val, q_val, e_val)\n",
        "    results[label] = t_val\n",
        "    # For very long estimated times, we convert seconds to a larger unit\n",
        "    if t_val > 3600:\n",
        "        print(f\"  Estimated time: {t_val:.2e} seconds (~{t_val/3600:.2e} hours) [{method_used}]\")\n",
        "    else:\n",
        "        print(f\"  Time taken: {t_val:.6f} seconds [{method_used}]\")\n",
        "\n"
      ]
    },
    {
      "cell_type": "markdown",
      "metadata": {
        "id": "Jovu3ZBl8IH8"
      },
      "source": [
        "## Plotting the Results\n",
        "\n",
        "We plot the measured/estimated times versus the prime size (by the number of digits).\n",
        "If the time differences are large, we use a logarithmic scale on the y-axis.\n",
        "\n",
        "Prepare data for plotting\n",
        "\n"
      ]
    },
    {
      "cell_type": "code",
      "execution_count": 8,
      "metadata": {
        "colab": {
          "base_uri": "https://localhost:8080/",
          "height": 564
        },
        "id": "40j5wUB28IH8",
        "outputId": "bd1a228b-5c27-41e1-9cae-cfc3139f2896"
      },
      "outputs": [
        {
          "output_type": "display_data",
          "data": {
            "text/plain": [
              "<Figure size 800x600 with 1 Axes>"
            ],
            "image/png": "[encoded data removed]"
          },
          "metadata": {}
        }
      ],
      "source": [
        "\n",
        "sizes = []\n",
        "times = []\n",
        "for label in results:\n",
        "    # extract digit count from the label (e.g., \"4-digit\" -> 4)\n",
        "    digit_count = int(label.split(\"-\")[0])\n",
        "    sizes.append(digit_count)\n",
        "    times.append(results[label])\n",
        "\n",
        "plt.figure(figsize=(8, 6))\n",
        "plt.plot(sizes, times, marker='o', linestyle='-', color='blue')\n",
        "plt.xlabel(\"Digit length of prime numbers (p)\")\n",
        "plt.ylabel(\"Time (seconds)\")\n",
        "plt.title(\"Estimated Time to Brute-Force Compute RSA Private Key d\")\n",
        "plt.yscale('log')  # use logarithmic scale if time differences are large\n",
        "plt.grid(True, which=\"both\", ls=\"--\")\n",
        "for x, y in zip(sizes, times):\n",
        "    plt.text(x, y, f\"  {y:.2e}\", fontsize=9)\n",
        "plt.show()\n",
        "\n",
        "\n"
      ]
    },
    {
      "cell_type": "markdown",
      "metadata": {
        "id": "rmONBWvo8IH9"
      },
      "source": [
        "## Conclusion\n",
        "\n",
        "The experiment illustrates that even for modest increases in the prime sizes, the brute-force method\n",
        "for finding the RSA private key \\( d \\) becomes extremely time‐consuming. While a brute-force approach\n",
        "may work for small primes, the enormous search space for large primes (which are used in practical RSA)\n",
        "makes this approach computationally infeasible. This underscores the strength of RSA and the importance\n",
        "of efficient algorithms (such as the Extended Euclidean Algorithm) for computing modular inverses.\n"
      ]
    }
  ],
  "metadata": {
    "language_info": {
      "name": "python"
    },
    "colab": {
      "provenance": []
    },
    "kernelspec": {
      "name": "python3",
      "display_name": "Python 3"
    }
  },
  "nbformat": 4,
  "nbformat_minor": 0
}