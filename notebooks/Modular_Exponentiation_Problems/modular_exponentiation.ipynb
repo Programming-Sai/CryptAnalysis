{
 "cells": [
  {
   "cell_type": "code",
   "execution_count": 1,
   "metadata": {},
   "outputs": [],
   "source": [
    "# Getting Scripts\n",
    "import sys\n",
    "import os\n",
    "sys.path.append(os.path.abspath(os.path.join('..', '..', 'scripts')))\n"
   ]
  },
  {
   "cell_type": "markdown",
   "metadata": {},
   "source": [
    "## Experimenting with Different Approaches For Modular Exponentiation\n",
    "\n",
    "Modular arithmetic is a fundamental concept in number theory and cryptography. One key operation in modular arithmetic is modular exponentiation, which calculates:  \n",
    "\n",
    "$$\n",
    "base^{exp} \\mod n\n",
    "$$\n",
    "\n",
    "This operation is widely used in encryption algorithms such as RSA. In this notebook, we will implement and analyze different methods for computing modular exponentiation efficiently.  \n",
    "\n",
    "---\n",
    "\n",
    "### **2. Modular Exponentiation**  \n",
    "There are three main approaches to computing modular exponentiation:  \n",
    "\n",
    "1. **Direct Computation** – Compute $ base^{exp} $ first, then take modulo $ n $.  \n",
    "2. **Efficient Method (Exponentiation by Squaring)** – Reduces computation steps significantly.  \n",
    "3. **Python’s Built-in `pow()` Function** – Uses optimized algorithms internally.  \n",
    "\n",
    "We will implement all three methods and compare their efficiency.  \n"
   ]
  },
  {
   "cell_type": "markdown",
   "metadata": {},
   "source": [
    "## Implementing the Direct approach\n",
    "\n",
    "```python\n",
    "    (base ** exponent)%modulus\n",
    "```"
   ]
  },
  {
   "cell_type": "code",
   "execution_count": 2,
   "metadata": {},
   "outputs": [],
   "source": [
    "direct_approach = lambda base, exponent, modulus: (base ** exponent) % modulus\n"
   ]
  },
  {
   "cell_type": "markdown",
   "metadata": {},
   "source": [
    "## Implementing the Exponentiation by Squaring approach"
   ]
  },
  {
   "cell_type": "code",
   "execution_count": 3,
   "metadata": {},
   "outputs": [],
   "source": [
    "# Code for Modular Exponentiation\n",
    "def exponentiation_by_squaring_approach(base, exponent, modulus):\n",
    "    result = 1\n",
    "    base = base % modulus  # Handle base greater than modulus\n",
    "\n",
    "    while exponent > 0:\n",
    "        # If exponent is odd, multiply the current base with result\n",
    "        if exponent % 2 == 1:\n",
    "            result = (result * base) % modulus\n",
    "\n",
    "        # Now exponent must be even, square the base and halve the exponent\n",
    "        exponent = exponent // 2\n",
    "        base = (base * base) % modulus\n",
    "\n",
    "    return result\n",
    "\n",
    "\n"
   ]
  },
  {
   "cell_type": "markdown",
   "metadata": {},
   "source": [
    "## Implementing the with Python's Built-In `pow()`\n",
    "\n",
    "```python\n",
    "    pow(base, exponent, modulus)\n",
    "```\n"
   ]
  },
  {
   "cell_type": "code",
   "execution_count": 4,
   "metadata": {},
   "outputs": [],
   "source": [
    "python_builtin_approach = lambda base, exponent, modulus: pow(base, exponent, modulus)"
   ]
  },
  {
   "cell_type": "markdown",
   "metadata": {},
   "source": [
    "### **3. Testing with Examples**  \n",
    "To verify our implementations, we will use the following test cases:  \n",
    "\n",
    "- **Test 1:** $ 3^{644} \\mod 645 $\n",
    "- **Test 2:** $ 7^{121} \\mod 13 $\n",
    "\n",
    "We expect all methods to return the same result.  \n"
   ]
  },
  {
   "cell_type": "code",
   "execution_count": 5,
   "metadata": {},
   "outputs": [
    {
     "name": "stdout",
     "output_type": "stream",
     "text": [
      "\n",
      "\n",
      "\n",
      "Direct Approach\n",
      "==================\n",
      "Base: 3, Exponent: 644, Modulus: 645\n",
      "Result: 36, Execution Time: 0.000011 seconds\n",
      "\n",
      "\n",
      "\n",
      "Direct Approach\n",
      "==================\n",
      "Base: 7, Exponent: 121, Modulus: 13\n",
      "Result: 7, Execution Time: 0.000006 seconds\n",
      "\n",
      "\n",
      "\n",
      "Exponentiation By Squaring Approach\n",
      "==================\n",
      "Base: 3, Exponent: 644, Modulus: 645\n",
      "Result: 36, Execution Time: 0.000010 seconds\n",
      "\n",
      "\n",
      "\n",
      "Exponentiation By Squaring Approach\n",
      "==================\n",
      "Base: 7, Exponent: 121, Modulus: 13\n",
      "Result: 7, Execution Time: 0.000004 seconds\n",
      "\n",
      "\n",
      "\n",
      "Python Builtin Function Approach\n",
      "==================\n",
      "Base: 3, Exponent: 644, Modulus: 645\n",
      "Result: 36, Execution Time: 0.000004 seconds\n",
      "\n",
      "\n",
      "\n",
      "Python Builtin Function Approach\n",
      "==================\n",
      "Base: 7, Exponent: 121, Modulus: 13\n",
      "Result: 7, Execution Time: 0.000003 seconds\n"
     ]
    }
   ],
   "source": [
    "from utils import run_modular_exponentiation_approaches_and_save_results\n",
    "\n",
    "\n",
    "test_cases=[\n",
    "    {'base': 3, 'exponent':644, 'modulus':645},\n",
    "    {'base': 7, 'exponent':121, 'modulus':13},\n",
    "]\n",
    "\n",
    "approaches = [\n",
    "    {'name': \"Direct Approach\",                         'func': direct_approach}, \n",
    "    {'name': \"Exponentiation By Squaring Approach\",     'func':exponentiation_by_squaring_approach}, \n",
    "    {'name': \"Python Builtin Function Approach\",        'func': python_builtin_approach}\n",
    "]\n",
    "\n",
    "for approach in approaches:\n",
    "    for case in test_cases:\n",
    "        print(\"\\n\\n\")\n",
    "        run_modular_exponentiation_approaches_and_save_results(approach['func'], approach['name'], case['base'], case['exponent'], case['modulus'], log_file=os.path.join(os.path.abspath(os.path.join(os.getcwd(), '..', '..', 'data')), 'modular_exponentiation_log.csv'))\n",
    "\n"
   ]
  },
  {
   "cell_type": "markdown",
   "metadata": {},
   "source": [
    "### **4. Performance Benchmarking**  \n",
    "Efficiency is critical, especially when dealing with large numbers. We will measure the execution time for each method and log the results.  \n",
    "\n",
    "Metrics to collect:  \n",
    "- Execution time for each method.  \n",
    "- Difference in performance between methods.  \n",
    "\n"
   ]
  },
  {
   "cell_type": "code",
   "execution_count": 6,
   "metadata": {},
   "outputs": [
    {
     "data": {
      "text/html": [
       "<div>\n",
       "<style scoped>\n",
       "    .dataframe tbody tr th:only-of-type {\n",
       "        vertical-align: middle;\n",
       "    }\n",
       "\n",
       "    .dataframe tbody tr th {\n",
       "        vertical-align: top;\n",
       "    }\n",
       "\n",
       "    .dataframe thead th {\n",
       "        text-align: right;\n",
       "    }\n",
       "</style>\n",
       "<table border=\"1\" class=\"dataframe\">\n",
       "  <thead>\n",
       "    <tr style=\"text-align: right;\">\n",
       "      <th></th>\n",
       "      <th>Approach</th>\n",
       "      <th>Base</th>\n",
       "      <th>Exponent</th>\n",
       "      <th>Modulus</th>\n",
       "      <th>Result</th>\n",
       "      <th>Execution Time (seconds)</th>\n",
       "    </tr>\n",
       "  </thead>\n",
       "  <tbody>\n",
       "    <tr>\n",
       "      <th>0</th>\n",
       "      <td>Direct Approach</td>\n",
       "      <td>3</td>\n",
       "      <td>644</td>\n",
       "      <td>645</td>\n",
       "      <td>36</td>\n",
       "      <td>0.000011</td>\n",
       "    </tr>\n",
       "    <tr>\n",
       "      <th>1</th>\n",
       "      <td>Direct Approach</td>\n",
       "      <td>7</td>\n",
       "      <td>121</td>\n",
       "      <td>13</td>\n",
       "      <td>7</td>\n",
       "      <td>0.000006</td>\n",
       "    </tr>\n",
       "    <tr>\n",
       "      <th>2</th>\n",
       "      <td>Exponentiation By Squaring Approach</td>\n",
       "      <td>3</td>\n",
       "      <td>644</td>\n",
       "      <td>645</td>\n",
       "      <td>36</td>\n",
       "      <td>0.000010</td>\n",
       "    </tr>\n",
       "    <tr>\n",
       "      <th>3</th>\n",
       "      <td>Exponentiation By Squaring Approach</td>\n",
       "      <td>7</td>\n",
       "      <td>121</td>\n",
       "      <td>13</td>\n",
       "      <td>7</td>\n",
       "      <td>0.000004</td>\n",
       "    </tr>\n",
       "    <tr>\n",
       "      <th>4</th>\n",
       "      <td>Python Builtin Function Approach</td>\n",
       "      <td>3</td>\n",
       "      <td>644</td>\n",
       "      <td>645</td>\n",
       "      <td>36</td>\n",
       "      <td>0.000004</td>\n",
       "    </tr>\n",
       "    <tr>\n",
       "      <th>5</th>\n",
       "      <td>Python Builtin Function Approach</td>\n",
       "      <td>7</td>\n",
       "      <td>121</td>\n",
       "      <td>13</td>\n",
       "      <td>7</td>\n",
       "      <td>0.000003</td>\n",
       "    </tr>\n",
       "  </tbody>\n",
       "</table>\n",
       "</div>"
      ],
      "text/plain": [
       "                              Approach  Base  Exponent  Modulus  Result  \\\n",
       "0                      Direct Approach     3       644      645      36   \n",
       "1                      Direct Approach     7       121       13       7   \n",
       "2  Exponentiation By Squaring Approach     3       644      645      36   \n",
       "3  Exponentiation By Squaring Approach     7       121       13       7   \n",
       "4     Python Builtin Function Approach     3       644      645      36   \n",
       "5     Python Builtin Function Approach     7       121       13       7   \n",
       "\n",
       "   Execution Time (seconds)  \n",
       "0                  0.000011  \n",
       "1                  0.000006  \n",
       "2                  0.000010  \n",
       "3                  0.000004  \n",
       "4                  0.000004  \n",
       "5                  0.000003  "
      ]
     },
     "execution_count": 6,
     "metadata": {},
     "output_type": "execute_result"
    }
   ],
   "source": [
    "import pandas as pd\n",
    "import matplotlib.pyplot as plt\n",
    "\n",
    "# Read the CSV file into a pandas DataFrame\n",
    "df = pd.read_csv(os.path.join(os.path.abspath(os.path.join(os.getcwd(), '..', '..', 'data')), 'modular_exponentiation_log.csv'))\n",
    "\n",
    "df"
   ]
  },
  {
   "cell_type": "markdown",
   "metadata": {},
   "source": [
    "### **5. Results & Visualization**  \n",
    "To better understand the performance differences, we will:  \n",
    "- Display execution times in a tabular format.  \n",
    "- Plot a bar chart comparing the methods.  \n",
    "\n",
    "\n"
   ]
  },
  {
   "cell_type": "code",
   "execution_count": 7,
   "metadata": {},
   "outputs": [
    {
     "data": {
      "image/png": "[encoded data removed]",
      "text/plain": [
       "<Figure size 1000x600 with 1 Axes>"
      ]
     },
     "metadata": {},
     "output_type": "display_data"
    }
   ],
   "source": [
    "# Group by the method and plot the times\n",
    "plt.figure(figsize=(10, 6))\n",
    "df.groupby('Approach')['Execution Time (seconds)'].mean().plot(kind='bar')\n",
    "plt.title('Comparison of Execution Time for Modular Exponentiation Methods')\n",
    "plt.ylabel('Average Execution Time (seconds)')\n",
    "plt.show()\n"
   ]
  },
  {
   "cell_type": "markdown",
   "metadata": {},
   "source": [
    "### **6. Conclusion**  \n",
    "From our analysis, we can determine which method is the most efficient. Generally:  \n",
    "- **Direct computation** is slow and impractical for large numbers.  \n",
    "- **Exponentiation by squaring** is significantly faster.  \n",
    "- **Python’s `pow()` function** is optimized and typically the best choice.  \n",
    "\n",
    "This experiment highlights the importance of using efficient algorithms in modular arithmetic."
   ]
  }
 ],
 "metadata": {
  "kernelspec": {
   "display_name": ".crypt-venv",
   "language": "python",
   "name": "python3"
  },
  "language_info": {
   "codemirror_mode": {
    "name": "ipython",
    "version": 3
   },
   "file_extension": ".py",
   "mimetype": "text/x-python",
   "name": "python",
   "nbconvert_exporter": "python",
   "pygments_lexer": "ipython3",
   "version": "3.10.10"
  }
 },
 "nbformat": 4,
 "nbformat_minor": 2
}
