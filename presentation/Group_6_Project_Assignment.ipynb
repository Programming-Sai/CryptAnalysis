{
 "cells": [
  {
   "cell_type": "markdown",
   "metadata": {
    "slideshow": {
     "slide_type": "slide"
    }
   },
   "source": [
    "# **MATH 359: Project Assignment 2024/2025**\n",
    "## **Modular Exponentiation, Brute-Force Password Cracking and RSA Complexity Analysis**\n",
    "\n",
    "### **Group Members:**\n",
    "\n",
    "``` bash\n",
    "1.⁠ ⁠⁠Abormegah Elisah Yaw - 10823700\n",
    "2. Angela Acquah - 11033579  \n",
    "3. Ebenezer Ofori Acquah - 11154989  \n",
    "4. Reuben Addo - 11019527  \n",
    "5.⁠ ⁠Anti Bright Gyeadu - 11340436\n",
    "6. Cyril Ashong - 11253767  \n",
    "7.⁠ ⁠⁠Javis Frimpong - 11285447\n",
    "8. Mensah Lartey Isaiah Nii Larte - 11222100  \n",
    "9.⁠ ⁠Raphael Quaye - 11253474             \n",
    "10. Tattah Abel Mawunyo - 11335775  \n",
    "```\n",
    "\n",
    "\n",
    " \n",
    "\n",
    "---\n",
    "\n",
    "## **Introduction**\n",
    "This project explores the computational complexity of **RSA decryption** and **brute-force password cracking** through a series of experiments. The objectives of this project include:  \n",
    "\n",
    "1. **Modular Exponentiation**  \n",
    "   - Implementing the modular exponentiation algorithm in Python.  \n",
    "   - Comparing its efficiency with direct exponentiation and Python's built-in `%` operator.  \n",
    "\n",
    "2. **RSA Brute-Force Attack Analysis**  \n",
    "   - Finding the decryption key `d` for RSA without knowing the prime factors.  \n",
    "   - Measuring the time required for different key sizes (4-digit, 6-digit, 8-digit, 10-digit primes).  \n",
    "   - Visualizing the time complexity of the brute-force attack.  \n",
    "\n",
    "3. **Password Cracking via Brute-Force**  \n",
    "   - Cracking **4-digit numeric** and **6-digit numeric** PIN codes.  \n",
    "   - Cracking **4-character and 6-character alphanumeric** passwords (case-sensitive).  \n",
    "   - Collecting execution time data and plotting the results.  \n",
    "\n",
    "Through this project, we aim to highlight the growing difficulty of breaking encryption and passwords as complexity increases. The results are visualized using plots to better understand how security scales with key size and password length.  \n"
   ]
  },
  {
   "cell_type": "markdown",
   "metadata": {},
   "source": [
    "_This presentation does not demonstrate the live execution of the RSA brute-force attack but instead focuses on the analysis and discussion of the results. The full implementation, including the source code and execution details, is available on [GitHub](https://github.com/Programming-Sai/CryptAnalysis.git). This work highlights how execution time scales with key size, reinforcing the impracticality of brute-force attacks on large RSA keys._"
   ]
  },
  {
   "cell_type": "code",
   "execution_count": 1,
   "metadata": {
    "slideshow": {
     "slide_type": "subslide"
    }
   },
   "outputs": [],
   "source": [
    "# Performing all imports\n",
    "\n",
    "import pandas as pd\n",
    "import time\n",
    "import os\n",
    "import math\n",
    "import random\n",
    "import string\n",
    "import matplotlib.pyplot as plt\n",
    "from IPython.display import display, HTML\n",
    "\n"
   ]
  },
  {
   "cell_type": "code",
   "execution_count": 2,
   "metadata": {
    "slideshow": {
     "slide_type": "subslide"
    }
   },
   "outputs": [],
   "source": [
    "# helper function\n",
    "def read_output_txt_file(filename):\n",
    "    with open(filename, 'r') as f:\n",
    "        print(f.read())"
   ]
  },
  {
   "cell_type": "markdown",
   "metadata": {
    "slideshow": {
     "slide_type": "slide"
    }
   },
   "source": [
    "## **Experimenting with Different Approaches for Modular Exponentiation**  \n",
    "\n",
    "Modular arithmetic is a fundamental concept in number theory and cryptography. One key operation in modular arithmetic is **modular exponentiation**, which calculates:  \n",
    "\n",
    "$$\n",
    "\\text{base}^{\\text{exp}} \\mod n\n",
    "$$  \n",
    "\n",
    "This operation is widely used in cryptographic algorithms like **RSA** to efficiently handle large exponentiations under a modulus. In this analysis, we explore different computational methods and compare their efficiency.  \n",
    "\n",
    "---\n",
    "\n",
    "### **2. Approaches to Modular Exponentiation**  \n",
    "We evaluate three approaches to computing modular exponentiation:  \n",
    "\n",
    "1. **Direct Computation** – Compute $ \\text{base}^{\\text{exp}} $ first, then take modulo $ n $.  \n",
    "2. **Exponentiation by Squaring** – Uses a divide-and-conquer approach to optimize computations.  \n",
    "3. **Python’s Built-in `pow()` Function** – A highly optimized internal implementation.  \n",
    "\n",
    "These methods will be implemented and benchmarked for performance.  \n",
    "\n",
    "---\n",
    "\n",
    "### **3. Testing and Validation**  \n",
    "To verify the correctness and efficiency of each approach, we will use the following test cases:  \n",
    "\n",
    "- **Test Case 1:** $ 3^{644} \\mod 645 $  \n",
    "- **Test Case 2:** $ 7^{121} \\mod 13 $  \n",
    "\n",
    "All methods should produce the same results while differing in computational efficiency."
   ]
  },
  {
   "cell_type": "code",
   "execution_count": 3,
   "metadata": {
    "slideshow": {
     "slide_type": "subslide"
    }
   },
   "outputs": [],
   "source": [
    "# Codes for each approach\n",
    "\n",
    "\n",
    "# Direct Approach\n",
    "direct_approach = lambda base, exponent, modulus: (base ** exponent) % modulus\n",
    "\n",
    "\n",
    "# Exponentiation by Squaring approach\n",
    "def exponentiation_by_squaring_approach(base, exponent, modulus):\n",
    "    result = 1\n",
    "    base = base % modulus  # Handle base greater than modulus\n",
    "\n",
    "    while exponent > 0:\n",
    "        # If exponent is odd, multiply the current base with result\n",
    "        if exponent % 2 == 1:\n",
    "            result = (result * base) % modulus\n",
    "\n",
    "        # Now exponent must be even, square the base and halve the exponent\n",
    "        exponent = exponent // 2\n",
    "        base = (base * base) % modulus\n",
    "\n",
    "    return result\n",
    "\n",
    "\n",
    "\n",
    "# Python's Built-In `pow()` approach\n",
    "python_builtin_approach = lambda base, exponent, modulus: pow(base, exponent, modulus)\n",
    "\n",
    "\n"
   ]
  },
  {
   "cell_type": "markdown",
   "metadata": {},
   "source": []
  },
  {
   "cell_type": "code",
   "execution_count": 4,
   "metadata": {
    "slideshow": {
     "slide_type": "subslide"
    }
   },
   "outputs": [
    {
     "name": "stdout",
     "output_type": "stream",
     "text": [
      "Direct Approach\n",
      "==================\n",
      "Base: 3, Exponent: 644, Modulus: 645\n",
      "Result: 36, Execution Time: 0.000011 seconds\n",
      "\n",
      "\n",
      "\n",
      "Direct Approach\n",
      "==================\n",
      "Base: 7, Exponent: 121, Modulus: 13\n",
      "Result: 7, Execution Time: 0.000006 seconds\n",
      "\n",
      "\n",
      "\n",
      "Exponentiation By Squaring Approach\n",
      "==================\n",
      "Base: 3, Exponent: 644, Modulus: 645\n",
      "Result: 36, Execution Time: 0.000010 seconds\n",
      "\n",
      "\n",
      "\n",
      "Exponentiation By Squaring Approach\n",
      "==================\n",
      "Base: 7, Exponent: 121, Modulus: 13\n",
      "Result: 7, Execution Time: 0.000004 seconds\n",
      "\n",
      "\n",
      "\n",
      "Python Builtin Function Approach\n",
      "==================\n",
      "Base: 3, Exponent: 644, Modulus: 645\n",
      "Result: 36, Execution Time: 0.000004 seconds\n",
      "\n",
      "\n",
      "\n",
      "Python Builtin Function Approach\n",
      "==================\n",
      "Base: 7, Exponent: 121, Modulus: 13\n",
      "Result: 7, Execution Time: 0.000003 seconds\n"
     ]
    }
   ],
   "source": [
    "read_output_txt_file(os.path.join(os.path.abspath(os.path.join(os.getcwd(), '..', 'data')), 'modular_exponentiation_output.txt'))"
   ]
  },
  {
   "cell_type": "code",
   "execution_count": 5,
   "metadata": {
    "slideshow": {
     "slide_type": "subslide"
    }
   },
   "outputs": [
    {
     "data": {
      "text/html": [
       "<div>\n",
       "<style scoped>\n",
       "    .dataframe tbody tr th:only-of-type {\n",
       "        vertical-align: middle;\n",
       "    }\n",
       "\n",
       "    .dataframe tbody tr th {\n",
       "        vertical-align: top;\n",
       "    }\n",
       "\n",
       "    .dataframe thead th {\n",
       "        text-align: right;\n",
       "    }\n",
       "</style>\n",
       "<table border=\"1\" class=\"dataframe\">\n",
       "  <thead>\n",
       "    <tr style=\"text-align: right;\">\n",
       "      <th></th>\n",
       "      <th>Approach</th>\n",
       "      <th>Base</th>\n",
       "      <th>Exponent</th>\n",
       "      <th>Modulus</th>\n",
       "      <th>Result</th>\n",
       "      <th>Execution Time (seconds)</th>\n",
       "    </tr>\n",
       "  </thead>\n",
       "  <tbody>\n",
       "    <tr>\n",
       "      <th>0</th>\n",
       "      <td>Direct Approach</td>\n",
       "      <td>3</td>\n",
       "      <td>644</td>\n",
       "      <td>645</td>\n",
       "      <td>36</td>\n",
       "      <td>0.000011</td>\n",
       "    </tr>\n",
       "    <tr>\n",
       "      <th>1</th>\n",
       "      <td>Direct Approach</td>\n",
       "      <td>7</td>\n",
       "      <td>121</td>\n",
       "      <td>13</td>\n",
       "      <td>7</td>\n",
       "      <td>0.000006</td>\n",
       "    </tr>\n",
       "    <tr>\n",
       "      <th>2</th>\n",
       "      <td>Exponentiation By Squaring Approach</td>\n",
       "      <td>3</td>\n",
       "      <td>644</td>\n",
       "      <td>645</td>\n",
       "      <td>36</td>\n",
       "      <td>0.000010</td>\n",
       "    </tr>\n",
       "    <tr>\n",
       "      <th>3</th>\n",
       "      <td>Exponentiation By Squaring Approach</td>\n",
       "      <td>7</td>\n",
       "      <td>121</td>\n",
       "      <td>13</td>\n",
       "      <td>7</td>\n",
       "      <td>0.000004</td>\n",
       "    </tr>\n",
       "    <tr>\n",
       "      <th>4</th>\n",
       "      <td>Python Builtin Function Approach</td>\n",
       "      <td>3</td>\n",
       "      <td>644</td>\n",
       "      <td>645</td>\n",
       "      <td>36</td>\n",
       "      <td>0.000004</td>\n",
       "    </tr>\n",
       "    <tr>\n",
       "      <th>5</th>\n",
       "      <td>Python Builtin Function Approach</td>\n",
       "      <td>7</td>\n",
       "      <td>121</td>\n",
       "      <td>13</td>\n",
       "      <td>7</td>\n",
       "      <td>0.000003</td>\n",
       "    </tr>\n",
       "  </tbody>\n",
       "</table>\n",
       "</div>"
      ],
      "text/plain": [
       "                              Approach  Base  Exponent  Modulus  Result  \\\n",
       "0                      Direct Approach     3       644      645      36   \n",
       "1                      Direct Approach     7       121       13       7   \n",
       "2  Exponentiation By Squaring Approach     3       644      645      36   \n",
       "3  Exponentiation By Squaring Approach     7       121       13       7   \n",
       "4     Python Builtin Function Approach     3       644      645      36   \n",
       "5     Python Builtin Function Approach     7       121       13       7   \n",
       "\n",
       "   Execution Time (seconds)  \n",
       "0                  0.000011  \n",
       "1                  0.000006  \n",
       "2                  0.000010  \n",
       "3                  0.000004  \n",
       "4                  0.000004  \n",
       "5                  0.000003  "
      ]
     },
     "execution_count": 5,
     "metadata": {},
     "output_type": "execute_result"
    }
   ],
   "source": [
    "# Viewing results of modular exponentiation approaches\n",
    "\n",
    "df = pd.read_csv(os.path.join(os.path.abspath(os.path.join(os.getcwd(), '..', 'data')), 'modular_exponentiation_log.csv'))\n",
    "\n",
    "df"
   ]
  },
  {
   "cell_type": "code",
   "execution_count": 6,
   "metadata": {
    "slideshow": {
     "slide_type": "subslide"
    }
   },
   "outputs": [
    {
     "data": {
      "image/png": "[encoded data removed]",
      "text/plain": [
       "<Figure size 1000x600 with 1 Axes>"
      ]
     },
     "metadata": {},
     "output_type": "display_data"
    }
   ],
   "source": [
    "# Group by the method and plot the times\n",
    "plt.figure(figsize=(10, 6))\n",
    "df.groupby('Approach')['Execution Time (seconds)'].mean().plot(kind='bar')\n",
    "plt.title('Comparison of Execution Time for Modular Exponentiation Methods')\n",
    "plt.ylabel('Average Execution Time (seconds)')\n",
    "plt.show()\n"
   ]
  },
  {
   "cell_type": "markdown",
   "metadata": {
    "slideshow": {
     "slide_type": "slide"
    }
   },
   "source": [
    "## RSA Brute Force Timing Experiment\n",
    "\n",
    "In this notebook, we analyze the complexity of brute-forcing the RSA private key $ d $, which is the modular inverse of $ e $ modulo $ \\phi(n) $. Our objective is to examine the scalability of brute force methods as key sizes increase.\n",
    "\n",
    "### **1. RSA Key Structure**\n",
    "In RSA, the public key consists of $ \\{e, n\\} $, where:\n",
    "- $ n = p \\times q $ (product of two prime numbers $ p $ and $ q $)\n",
    "- $ \\phi(n) = (p-1) \\times (q-1) $ (Euler’s totient function)\n",
    "- $ e $ is the public exponent, typically chosen such that it is coprime with $ \\phi(n) $\n",
    "\n",
    "The private key $ d $ satisfies:\n",
    "$$ d \\times e \\equiv 1 \\pmod{\\phi(n)} $$\n",
    "\n",
    "### **2. Experiment Goals**\n",
    "We attempt to find $ d $ by brute force, checking every candidate $ k $ (starting from 1) until we find:\n",
    "$$ k \\times e \\mod \\phi(n) = 1. $$\n",
    "\n",
    "Due to the inefficiency of brute force methods, we:\n",
    "- **Measure execution time for small primes** (e.g., two-digit primes)\n",
    "- **Estimate execution time for larger primes** (e.g., four-digit, six-digit primes) by extrapolating iteration speeds\n",
    "- **Compare results across different key sizes**\n",
    "\n",
    "### **3. Methodology**\n",
    "1. **Brute Force Implementation:**\n",
    "   - We iterate through possible values of $ d $ until we find the correct inverse.\n",
    "   - For small primes, we compute $ d $ directly.\n",
    "   - For larger primes, we estimate execution time by measuring loop iteration speed.\n",
    "\n",
    "2. **Automated Testing & Data Logging:**\n",
    "   - We generate prime numbers of different sizes.\n",
    "   - We compute $ d $ using brute force and record execution times.\n",
    "   - The results are stored in a CSV file for analysis.\n",
    "\n",
    "3. **Visualization & Analysis:**\n",
    "   - We plot execution time vs. prime size.\n",
    "   - We analyze the scalability of brute force search as key sizes increase.\n",
    "\n",
    "### **4. Expected Outcome**\n",
    "As the prime numbers grow, brute force computation of $ d $ becomes infeasible due to exponential time complexity. This highlights the necessity of efficient modular inverse algorithms, such as the Extended Euclidean Algorithm, for real-world RSA applications.\n",
    "\n"
   ]
  },
  {
   "cell_type": "code",
   "execution_count": 7,
   "metadata": {
    "slideshow": {
     "slide_type": "subslide"
    }
   },
   "outputs": [],
   "source": [
    "# Code for brute force rsa decryption\n",
    "\n",
    "\n",
    "def extended_gcd(a, b):\n",
    "    \"\"\"Return tuple (g, x, y) such that ax + by = g = gcd(a, b).\"\"\"\n",
    "    if a == 0:\n",
    "        return (b, 0, 1)\n",
    "    else:\n",
    "        g, x, y = extended_gcd(b % a, a)\n",
    "        return (g, y - (b // a) * x, x)\n",
    "    \n",
    "    \n",
    "\n",
    "def modinv(e, phi):\n",
    "    \"\"\"Compute the modular inverse of e mod phi using the Extended Euclidean Algorithm.\"\"\"\n",
    "    g, x, _ = extended_gcd(e, phi)\n",
    "    if g != 1:\n",
    "        raise Exception('Modular inverse does not exist')\n",
    "    else:\n",
    "        return x % phi\n",
    "\n",
    "\n",
    "def brute_force_d(p, q, e):\n",
    "    \"\"\"\n",
    "    For given primes p and q and public exponent e,\n",
    "    compute phi, then find d (the modular inverse of e modulo phi)\n",
    "    by brute force. Always does the actual calculation and returns the result.\n",
    "    \"\"\"\n",
    "    phi = (p-1) * (q-1)\n",
    "    \n",
    "    # First, compute d quickly using modinv (for later reference)\n",
    "    d_true = modinv(e, phi)\n",
    "\n",
    "    # Perform the brute force search, regardless of d_true size\n",
    "    start = time.time()\n",
    "    candidate = 1\n",
    "    while candidate < d_true+1:\n",
    "        if (candidate * e) % phi == 1:\n",
    "            d = candidate\n",
    "            break\n",
    "        candidate += 1\n",
    "    elapsed = time.time() - start\n",
    "    return d, elapsed\n"
   ]
  },
  {
   "cell_type": "code",
   "execution_count": 8,
   "metadata": {
    "slideshow": {
     "slide_type": "subslide"
    }
   },
   "outputs": [
    {
     "name": "stdout",
     "output_type": "stream",
     "text": [
      "2-digit\n",
      "==================\n",
      "p: 89, q: 17, e: 13\n",
      "d: 325, Execution Time: 0.000080 seconds\n",
      "\n",
      "4-digit\n",
      "==================\n",
      "p: 2953, q: 6907, e: 13\n",
      "d: 6272773, Execution Time: 2.847473 seconds\n",
      "\n",
      "6-digit\n",
      "==================\n",
      "p: 100003, q: 100019, e: 13\n",
      "d: 4616307709, Execution Time: 1922.659906 seconds\n",
      "\n",
      "\n"
     ]
    }
   ],
   "source": [
    "# Terminal Results\n",
    "read_output_txt_file(os.path.join(os.path.abspath(os.path.join(os.getcwd(), '..', 'data')), 'rsa_output.txt'))\n"
   ]
  },
  {
   "cell_type": "code",
   "execution_count": 9,
   "metadata": {
    "slideshow": {
     "slide_type": "subslide"
    }
   },
   "outputs": [
    {
     "data": {
      "text/html": [
       "<div>\n",
       "<style scoped>\n",
       "    .dataframe tbody tr th:only-of-type {\n",
       "        vertical-align: middle;\n",
       "    }\n",
       "\n",
       "    .dataframe tbody tr th {\n",
       "        vertical-align: top;\n",
       "    }\n",
       "\n",
       "    .dataframe thead th {\n",
       "        text-align: right;\n",
       "    }\n",
       "</style>\n",
       "<table border=\"1\" class=\"dataframe\">\n",
       "  <thead>\n",
       "    <tr style=\"text-align: right;\">\n",
       "      <th></th>\n",
       "      <th>No of Digits</th>\n",
       "      <th>p</th>\n",
       "      <th>q</th>\n",
       "      <th>e</th>\n",
       "      <th>d</th>\n",
       "      <th>Execution Time (seconds)</th>\n",
       "      <th>Digits</th>\n",
       "    </tr>\n",
       "  </thead>\n",
       "  <tbody>\n",
       "    <tr>\n",
       "      <th>0</th>\n",
       "      <td>2-digit</td>\n",
       "      <td>89</td>\n",
       "      <td>17</td>\n",
       "      <td>13</td>\n",
       "      <td>325</td>\n",
       "      <td>0.000080</td>\n",
       "      <td>2</td>\n",
       "    </tr>\n",
       "    <tr>\n",
       "      <th>1</th>\n",
       "      <td>4-digit</td>\n",
       "      <td>2953</td>\n",
       "      <td>6907</td>\n",
       "      <td>13</td>\n",
       "      <td>6272773</td>\n",
       "      <td>2.847473</td>\n",
       "      <td>4</td>\n",
       "    </tr>\n",
       "    <tr>\n",
       "      <th>2</th>\n",
       "      <td>6-digit</td>\n",
       "      <td>100003</td>\n",
       "      <td>100019</td>\n",
       "      <td>13</td>\n",
       "      <td>4616307709</td>\n",
       "      <td>1922.659906</td>\n",
       "      <td>6</td>\n",
       "    </tr>\n",
       "  </tbody>\n",
       "</table>\n",
       "</div>"
      ],
      "text/plain": [
       "  No of Digits       p       q   e           d  Execution Time (seconds)  \\\n",
       "0      2-digit      89      17  13         325                  0.000080   \n",
       "1      4-digit    2953    6907  13     6272773                  2.847473   \n",
       "2      6-digit  100003  100019  13  4616307709               1922.659906   \n",
       "\n",
       "   Digits  \n",
       "0       2  \n",
       "1       4  \n",
       "2       6  "
      ]
     },
     "execution_count": 9,
     "metadata": {},
     "output_type": "execute_result"
    }
   ],
   "source": [
    "# Viewing results of modular exponentiation approaches\n",
    "\n",
    "df = pd.read_csv(os.path.join(os.path.abspath(os.path.join(os.getcwd(), '..', 'data')), 'rsa_log.csv'))\n",
    "\n",
    "# Convert 'No of Digits' into numerical values\n",
    "df['Digits'] = df['No of Digits'].map({\n",
    "    '2-digit': 2,\n",
    "    '4-digit': 4,\n",
    "    '6-digit': 6,\n",
    "})\n",
    "\n",
    "df"
   ]
  },
  {
   "cell_type": "code",
   "execution_count": 10,
   "metadata": {
    "slideshow": {
     "slide_type": "subslide"
    }
   },
   "outputs": [
    {
     "data": {
      "image/png": "[encoded data removed]",
      "text/plain": [
       "<Figure size 800x600 with 1 Axes>"
      ]
     },
     "metadata": {},
     "output_type": "display_data"
    }
   ],
   "source": [
    "# Plot Execution Time vs Number of Digits\n",
    "plt.figure(figsize=(8, 6))\n",
    "plt.plot(df['Digits'], df['Execution Time (seconds)'], marker='o', linestyle='-', color='b', label=\"Execution Time\")\n",
    "plt.xlabel(\"Number of Digits in Primes\")\n",
    "plt.ylabel(\"Execution Time (seconds)\")\n",
    "plt.title(\"RSA Brute-force Timing\")\n",
    "\n",
    "# Set the y-axis to log scale\n",
    "plt.yscale('log')\n",
    "\n",
    "plt.xticks(df['Digits'])\n",
    "plt.grid(True)\n",
    "plt.legend()\n",
    "\n",
    "# Show the plot\n",
    "plt.show()"
   ]
  },
  {
   "cell_type": "markdown",
   "metadata": {
    "slideshow": {
     "slide_type": "slide"
    }
   },
   "source": [
    "# Brute-Force Password Cracking Project\n",
    "\n",
    "This project demonstrates the brute-force method for cracking PIN codes and alphanumeric passwords. The brute-force approach involves systematically trying all possible character combinations until the correct password is found. We will explore three scenarios:\n",
    "\n",
    "1. **Brute-force for a 4-digit PIN code**.\n",
    "2. **Brute-force for a 6-digit PIN code**.\n",
    "3. **Brute-force for alphanumeric codes** (case-sensitive), both 4 and 6 characters long.\n",
    "\n",
    "### Methodology\n",
    "For each case, we follow these steps:\n",
    "- Generate a random password using the `generate_random_code` function.\n",
    "- Apply the brute-force algorithm:\n",
    "  - `brute_force_pin_code(code, length)`: Iterates through all numerical combinations up to the given length.\n",
    "  - `brute_force_alphanumeric_code(code, length)`: Tries all case-sensitive alphanumeric combinations up to the given length.\n",
    "- Measure and record the execution time for cracking each password.\n",
    "- Store the results in CSV files for analysis.\n",
    "- Use Matplotlib to visualize the time distribution via histograms.\n",
    "\n",
    "### Data Collection & Visualization\n",
    "- **500 iterations** are performed for each test case.\n",
    "- The recorded execution times are stored in structured CSV files.\n",
    "- The results are displayed in summary tables and plotted as histograms to illustrate time distribution trends."
   ]
  },
  {
   "cell_type": "code",
   "execution_count": 11,
   "metadata": {
    "slideshow": {
     "slide_type": "subslide"
    }
   },
   "outputs": [],
   "source": [
    "# Code for Brute forcing passwords of both types\n",
    "\n",
    "\n",
    "# Code for brute forcing digit only pin codes\n",
    "def brute_force_pin_code(code: str, length: int):\n",
    "    start_time = time.time()\n",
    "    for attempt in range(10 ** length):\n",
    "        guess = f'{attempt:0{length}d}'\n",
    "        if guess == code:\n",
    "            break\n",
    "    return time.time() - start_time\n",
    "\n",
    "\n",
    "# Code for brute forcing alphanumeric case sensitive pin codes.\n",
    "def brute_force_alphanumeric_code(code: str, length: int):\n",
    "    start_time = time.time()\n",
    "    characters = string.ascii_letters + string.digits\n",
    "    for attempt in range(len(characters) ** length):\n",
    "        guess = ''.join([characters[(attempt // len(characters) ** i) % len(characters)] for i in range(length - 1, -1, -1)])\n",
    "        if guess == code:\n",
    "            break\n",
    "    return time.time() - start_time\n"
   ]
  },
  {
   "cell_type": "code",
   "execution_count": 12,
   "metadata": {
    "slideshow": {
     "slide_type": "subslide"
    }
   },
   "outputs": [],
   "source": [
    "test_cases=[\n",
    "    {'func': brute_force_pin_code, 'length': 4, 'alphanumeric': False, 'label': \"Digits-Only\"},\n",
    "    {'func': brute_force_pin_code, 'length': 6, 'alphanumeric': False, 'label': \"Digits-Only\"},\n",
    "    {'func': brute_force_alphanumeric_code, 'length': 4, 'alphanumeric': True, 'label': \"Alphanumerc-Case-Sensitive\"},\n",
    "    {'func': brute_force_alphanumeric_code, 'length': 6, 'alphanumeric': True, 'label': \"Alphanumerc-Case-Sensitive\"},\n",
    "]\n"
   ]
  },
  {
   "cell_type": "code",
   "execution_count": null,
   "metadata": {},
   "outputs": [],
   "source": [
    "# This cell is not run since the output is too huge.\n",
    "for case in test_cases:\n",
    "    read_output_txt_file(os.path.join(os.path.abspath(os.path.join(os.getcwd(), '..', 'data')), f\"{case['length']}_character_password_cracking_log.txt\"))\n"
   ]
  },
  {
   "cell_type": "code",
   "execution_count": 17,
   "metadata": {
    "slideshow": {
     "slide_type": "subslide"
    }
   },
   "outputs": [
    {
     "data": {
      "text/html": [
       "<div style=\"display: inline-block; padding: 10px; margin-right: 10px; vertical-align: top; width: 100%;\"><h3>4-Digits-Only-Character Password</h3><table border=\"1\" class=\"dataframe\">\n",
       "  <thead>\n",
       "    <tr style=\"text-align: right;\">\n",
       "      <th>Length</th>\n",
       "      <th>Type</th>\n",
       "      <th>Code</th>\n",
       "      <th>Time (seconds)</th>\n",
       "    </tr>\n",
       "  </thead>\n",
       "  <tbody>\n",
       "    <tr>\n",
       "      <td>4</td>\n",
       "      <td>Digits-Only</td>\n",
       "      <td>6274</td>\n",
       "      <td>0.017689</td>\n",
       "    </tr>\n",
       "    <tr>\n",
       "      <td>4</td>\n",
       "      <td>Digits-Only</td>\n",
       "      <td>2492</td>\n",
       "      <td>0.007071</td>\n",
       "    </tr>\n",
       "    <tr>\n",
       "      <td>4</td>\n",
       "      <td>Digits-Only</td>\n",
       "      <td>8885</td>\n",
       "      <td>0.011117</td>\n",
       "    </tr>\n",
       "    <tr>\n",
       "      <td>4</td>\n",
       "      <td>Digits-Only</td>\n",
       "      <td>9916</td>\n",
       "      <td>0.007127</td>\n",
       "    </tr>\n",
       "    <tr>\n",
       "      <td>4</td>\n",
       "      <td>Digits-Only</td>\n",
       "      <td>93</td>\n",
       "      <td>0.000063</td>\n",
       "    </tr>\n",
       "  </tbody>\n",
       "</table></div><div style=\"display: inline-block; padding: 10px; margin-right: 10px; vertical-align: top; width: 100%;\"><h3>6-Digits-Only-Character Password</h3><table border=\"1\" class=\"dataframe\">\n",
       "  <thead>\n",
       "    <tr style=\"text-align: right;\">\n",
       "      <th>Length</th>\n",
       "      <th>Type</th>\n",
       "      <th>Code</th>\n",
       "      <th>Time (seconds)</th>\n",
       "    </tr>\n",
       "  </thead>\n",
       "  <tbody>\n",
       "    <tr>\n",
       "      <td>6</td>\n",
       "      <td>Digits-Only</td>\n",
       "      <td>898762</td>\n",
       "      <td>1.457033</td>\n",
       "    </tr>\n",
       "    <tr>\n",
       "      <td>6</td>\n",
       "      <td>Digits-Only</td>\n",
       "      <td>10750</td>\n",
       "      <td>0.017879</td>\n",
       "    </tr>\n",
       "    <tr>\n",
       "      <td>6</td>\n",
       "      <td>Digits-Only</td>\n",
       "      <td>365281</td>\n",
       "      <td>0.849363</td>\n",
       "    </tr>\n",
       "    <tr>\n",
       "      <td>6</td>\n",
       "      <td>Digits-Only</td>\n",
       "      <td>547655</td>\n",
       "      <td>0.738724</td>\n",
       "    </tr>\n",
       "    <tr>\n",
       "      <td>6</td>\n",
       "      <td>Digits-Only</td>\n",
       "      <td>59734</td>\n",
       "      <td>0.054159</td>\n",
       "    </tr>\n",
       "  </tbody>\n",
       "</table></div><div style=\"display: inline-block; padding: 10px; margin-right: 10px; vertical-align: top; width: 100%;\"><h3>4-Alphanumerc-Case-Sensitive-Character Password</h3><table border=\"1\" class=\"dataframe\">\n",
       "  <thead>\n",
       "    <tr style=\"text-align: right;\">\n",
       "      <th>Length</th>\n",
       "      <th>Type</th>\n",
       "      <th>Code</th>\n",
       "      <th>Time (seconds)</th>\n",
       "    </tr>\n",
       "  </thead>\n",
       "  <tbody>\n",
       "    <tr>\n",
       "      <td>4</td>\n",
       "      <td>Alphanumerc-Case-Sensitive</td>\n",
       "      <td>Fz7F</td>\n",
       "      <td>19.096960</td>\n",
       "    </tr>\n",
       "    <tr>\n",
       "      <td>4</td>\n",
       "      <td>Alphanumerc-Case-Sensitive</td>\n",
       "      <td>eDdB</td>\n",
       "      <td>2.679034</td>\n",
       "    </tr>\n",
       "    <tr>\n",
       "      <td>4</td>\n",
       "      <td>Alphanumerc-Case-Sensitive</td>\n",
       "      <td>TlSB</td>\n",
       "      <td>26.582471</td>\n",
       "    </tr>\n",
       "    <tr>\n",
       "      <td>4</td>\n",
       "      <td>Alphanumerc-Case-Sensitive</td>\n",
       "      <td>QL52</td>\n",
       "      <td>25.652918</td>\n",
       "    </tr>\n",
       "    <tr>\n",
       "      <td>4</td>\n",
       "      <td>Alphanumerc-Case-Sensitive</td>\n",
       "      <td>UnhP</td>\n",
       "      <td>27.908031</td>\n",
       "    </tr>\n",
       "  </tbody>\n",
       "</table></div><div style=\"display: inline-block; padding: 10px; margin-right: 10px; vertical-align: top; width: 100%;\"><h3>6-Alphanumerc-Case-Sensitive-Character Password</h3><table border=\"1\" class=\"dataframe\">\n",
       "  <thead>\n",
       "    <tr style=\"text-align: right;\">\n",
       "      <th>Length</th>\n",
       "      <th>Type</th>\n",
       "      <th>Code</th>\n",
       "      <th>Time (seconds)</th>\n",
       "    </tr>\n",
       "  </thead>\n",
       "  <tbody>\n",
       "    <tr>\n",
       "      <td>6</td>\n",
       "      <td>Alphanumerc-Case-Sensitive</td>\n",
       "      <td>mUzWfr</td>\n",
       "      <td>105313.254743</td>\n",
       "    </tr>\n",
       "    <tr>\n",
       "      <td>6</td>\n",
       "      <td>Alphanumerc-Case-Sensitive</td>\n",
       "      <td>TNpRPG</td>\n",
       "      <td>121912.251394</td>\n",
       "    </tr>\n",
       "    <tr>\n",
       "      <td>6</td>\n",
       "      <td>Alphanumerc-Case-Sensitive</td>\n",
       "      <td>Pzwm7P</td>\n",
       "      <td>106671.638853</td>\n",
       "    </tr>\n",
       "    <tr>\n",
       "      <td>6</td>\n",
       "      <td>Alphanumerc-Case-Sensitive</td>\n",
       "      <td>jtiHOe</td>\n",
       "      <td>105550.451992</td>\n",
       "    </tr>\n",
       "    <tr>\n",
       "      <td>6</td>\n",
       "      <td>Alphanumerc-Case-Sensitive</td>\n",
       "      <td>iMqvNO</td>\n",
       "      <td>107197.441050</td>\n",
       "    </tr>\n",
       "  </tbody>\n",
       "</table></div>"
      ],
      "text/plain": [
       "<IPython.core.display.HTML object>"
      ]
     },
     "metadata": {},
     "output_type": "display_data"
    }
   ],
   "source": [
    "frames = []\n",
    "for case in test_cases:\n",
    "    frames.append(pd.read_csv(os.path.join(os.path.abspath(os.path.join(os.getcwd(), '..', 'data')), f\"{case['length']}_{case['label']}_character_password_cracking_log.csv\")))\n",
    "\n",
    "tables = [\n",
    "    f'<div style=\"display: inline-block; padding: 10px; margin-right: 10px; vertical-align: top; width: 100%;\">'\n",
    "    f'<h3>{test_cases[i][\"length\"]}-{test_cases[i][\"label\"]}-Character Password</h3>'\n",
    "    f'{frame.head().to_html(index=False)}</div>'\n",
    "    for i, frame in enumerate(frames)\n",
    "]\n",
    "\n",
    "# Display the tables side by side with titles and spacing\n",
    "display(HTML(''.join(tables)))"
   ]
  },
  {
   "cell_type": "code",
   "execution_count": 15,
   "metadata": {
    "slideshow": {
     "slide_type": "subslide"
    }
   },
   "outputs": [
    {
     "data": {
      "image/png": "[encoded data removed]",
      "text/plain": [
       "<Figure size 1500x1000 with 4 Axes>"
      ]
     },
     "metadata": {},
     "output_type": "display_data"
    }
   ],
   "source": [
    "\n",
    "\n",
    "# Determine number of rows and columns for the subplots\n",
    "n_plots = len(frames)\n",
    "n_cols = 2  # You can adjust this value based on how many columns you want\n",
    "n_rows = math.ceil(n_plots / n_cols)\n",
    "\n",
    "# Create subplots with dynamic rows and columns\n",
    "fig, axes = plt.subplots(n_rows, n_cols, figsize=(15, 5 * n_rows))\n",
    "\n",
    "# Flatten axes to make indexing easier if the grid has multiple rows\n",
    "axes = axes.flatten()\n",
    "\n",
    "# Loop through frames and plot\n",
    "for i, frame in enumerate(frames):\n",
    "    axes[i].hist(frame['Time (seconds)'], bins=20, color=random.choice(['red', 'blue', 'green', 'purple']), alpha=0.7)\n",
    "    axes[i].set_xlabel('Time (seconds)')\n",
    "    axes[i].set_ylabel('Frequency')\n",
    "    axes[i].set_title(f'{test_cases[i][\"length\"]}-Character Password')\n",
    "\n",
    "# Turn off unused axes\n",
    "for i in range(n_plots, len(axes)):\n",
    "    axes[i].axis('off')\n",
    "\n",
    "# Apply tight layout to avoid overlap and adjust spacing\n",
    "plt.tight_layout()\n",
    "\n",
    "# Show the plots\n",
    "plt.show()\n"
   ]
  },
  {
   "cell_type": "markdown",
   "metadata": {
    "slideshow": {
     "slide_type": "slide"
    }
   },
   "source": [
    "### **Conclusion**  \n",
    "\n",
    "This project provided a comprehensive analysis of modular exponentiation, brute-force password cracking, and the complexity of breaking RSA encryption. Through systematic experimentation, we gained key insights into computational efficiency and security vulnerabilities.  \n",
    "\n",
    "1. **Modular Exponentiation:**  \n",
    "   - The **Exponentiation by Squaring** method significantly outperformed direct computation.  \n",
    "   - Python’s built-in `pow()` function proved to be the most optimized approach.  \n",
    "   - These results emphasize the importance of efficient algorithms in cryptographic operations.  \n",
    "\n",
    "2. **RSA Brute-Force Analysis:**  \n",
    "   - Finding the decryption key `d` via brute force quickly became impractical as key sizes increased.  \n",
    "   - The execution time scaled exponentially, making brute-force decryption infeasible for real-world RSA implementations.  \n",
    "   - This reinforces why RSA remains secure when sufficiently large primes are used.  \n",
    "\n",
    "3. **Brute-Force Password Cracking:**  \n",
    "   - Short numeric PINs were cracked in milliseconds, demonstrating their vulnerability.  \n",
    "   - Alphanumeric passwords significantly increased brute-force time due to larger character sets.  \n",
    "   - The findings highlight the need for strong password policies and alternative authentication measures.  \n",
    "\n",
    "### **Key Takeaways:**  \n",
    "- Efficient algorithms are crucial for cryptographic operations, as seen in modular exponentiation.  \n",
    "- RSA encryption relies on computational infeasibility, making brute-force attacks unrealistic for large keys.  \n",
    "- Weak passwords are highly vulnerable to brute-force attacks, emphasizing the need for complex and unique passwords.  \n",
    "\n",
    "In conclusion, this project underscores the balance between security and computational efficiency in cryptography. By understanding these concepts, we can better design secure systems that resist brute-force attacks and ensure data protection."
   ]
  }
 ],
 "metadata": {
  "kernelspec": {
   "display_name": ".crypt-venv",
   "language": "python",
   "name": "python3"
  },
  "language_info": {
   "codemirror_mode": {
    "name": "ipython",
    "version": 3
   },
   "file_extension": ".py",
   "mimetype": "text/x-python",
   "name": "python",
   "nbconvert_exporter": "python",
   "pygments_lexer": "ipython3",
   "version": "3.10.10"
  }
 },
 "nbformat": 4,
 "nbformat_minor": 2
}
